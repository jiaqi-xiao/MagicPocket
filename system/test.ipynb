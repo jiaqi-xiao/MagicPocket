{
 "cells": [
  {
   "cell_type": "code",
   "execution_count": 2,
   "id": "407ae408",
   "metadata": {},
   "outputs": [],
   "source": [
    "import json\n",
    "\n",
    "with open(\"test_payload.json\",\"r\") as f:\n",
    "    payload = json.load(f)"
   ]
  },
  {
   "cell_type": "code",
   "execution_count": 4,
   "id": "0a3bc14c",
   "metadata": {},
   "outputs": [
    {
     "data": {
      "text/plain": [
       "[{'id': 1751966127811,\n",
       "  'content': 'A network protocol is a set of rules that govern data communication between different devices in the network. It determines what is being communicated, how it is being communicated, and when it is being communicated. It permits connected devices to communicate with each other, irrespective of internal and structural differences.',\n",
       "  'context': 'A network protocol is a set of rules that govern data communication between different devices in the network. It determines what is being communicated, how it is being communicated, and when it is being communicated. It permits connected devices to communicate with each other, irrespective of internal and structural differences.',\n",
       "  'comment': '',\n",
       "  'isLeafNode': True},\n",
       " {'id': 1751966135811,\n",
       "  'content': 'The [Open Systems Interconnection (OSI),](https://www.geeksforgeeks.org/open-systems-interconnection-model-osi/) the most widely used model, illustrates how computer systems interact with one another over a network.',\n",
       "  'context': 'It is essential to understand how devices communicate over a network by recognizing network protocols. The ',\n",
       "  'comment': '',\n",
       "  'isLeafNode': True},\n",
       " {'id': 1751966158043,\n",
       "  'content': 'Hypertext Transfer Protocol(HTTP)It is a layer 7 protocol that is designed for transferring a hypertext between two or more systems.[ HTTP](https://www.geeksforgeeks.org/http-full-form/) works on a [client-server model](https://www.geeksforgeeks.org/client-server-model/), most of the data sharing over the web is done through using HTTP.',\n",
       "  'context': ', most of the data sharing over the web is done through using HTTP.',\n",
       "  'comment': '',\n",
       "  'isLeafNode': True},\n",
       " {'id': 1751966229565,\n",
       "  'content': 'HTTPS is a secure version of HTTP, using encryption (SSL/TLS) to protect data during transmission.HTTP and HTTPS allow users to access and interact with websites securely, ensuring privacy and data integrity.',\n",
       "  'context': 'HTTPS is a secure version of HTTP, using encryption (SSL/TLS) to protect data during transmission.',\n",
       "  'comment': '',\n",
       "  'isLeafNode': True},\n",
       " {'id': 1751966256973,\n",
       "  'content': 'Network SecurityThese protocols secure the data in passage over a network. These protocols also determine how the network secures data from any unauthorized attempts to extract or review data. These protocols make sure that no unauthorized devices, users, or services can access the network data. Primarily, these protocols depend on encryption to secure data.',\n",
       "  'context': '3. Network Security',\n",
       "  'comment': '',\n",
       "  'isLeafNode': True},\n",
       " {'id': 1751966272730,\n",
       "  'content': 'TCP is known for its reliability and connection-oriented nature. When two devices establish communication through TCP, they create a dedicated connection for the duration of the data exchange.',\n",
       "  'context': 'TCP is known for its reliability and connection-oriented nature. When two devices establish communication through TCP, they create a dedicated connection for the duration of the data exchange.',\n",
       "  'comment': '',\n",
       "  'isLeafNode': True},\n",
       " {'id': 1751966279746,\n",
       "  'content': 'UDP is often considered faster than TCP because it doesn’t have the overhead of connection setup and the error-checking mechanisms that TCP employs. As a result, it can transmit data more quickly.',\n",
       "  'context': 'UDP is often considered faster than TCP because it doesn’t have the overhead of connection setup and the error-checking mechanisms that TCP employs. As a result, it can transmit data more quickly.',\n",
       "  'comment': '',\n",
       "  'isLeafNode': True},\n",
       " {'id': 1751966287104,\n",
       "  'content': 'Connection-Oriented vs. Connectionless: TCP is connection-oriented, meaning it establishes a connection before data transmission, while UDP is connectionless, simply sending data without prior setup.',\n",
       "  'context': 'Connection-Oriented vs. Connectionless: TCP is connection-oriented, meaning it establishes a connection before data transmission, while UDP is connectionless, simply sending data without prior setup.',\n",
       "  'comment': '',\n",
       "  'isLeafNode': True}]"
      ]
     },
     "execution_count": 4,
     "metadata": {},
     "output_type": "execute_result"
    }
   ],
   "source": [
    "payload['data']"
   ]
  }
 ],
 "metadata": {
  "kernelspec": {
   "display_name": "intent_prism",
   "language": "python",
   "name": "python3"
  },
  "language_info": {
   "codemirror_mode": {
    "name": "ipython",
    "version": 3
   },
   "file_extension": ".py",
   "mimetype": "text/x-python",
   "name": "python",
   "nbconvert_exporter": "python",
   "pygments_lexer": "ipython3",
   "version": "3.10.14"
  }
 },
 "nbformat": 4,
 "nbformat_minor": 5
}
